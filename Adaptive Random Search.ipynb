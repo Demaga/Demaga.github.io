{
  "nbformat": 4,
  "nbformat_minor": 0,
  "metadata": {
    "kernelspec": {
      "display_name": "Python",
      "language": "python",
      "name": "conda-env-python-py"
    },
    "language_info": {
      "codemirror_mode": {
        "name": "ipython",
        "version": 3
      },
      "file_extension": ".py",
      "mimetype": "text/x-python",
      "name": "python",
      "nbconvert_exporter": "python",
      "pygments_lexer": "ipython3",
      "version": "3.6.10"
    },
    "colab": {
      "name": "Student Lab Template.ipynb",
      "provenance": [],
      "include_colab_link": true
    }
  },
  "cells": [
    {
      "cell_type": "markdown",
      "metadata": {
        "id": "view-in-github",
        "colab_type": "text"
      },
      "source": [
        "<a href=\"https://colab.research.google.com/github/Demaga/Demaga.github.io/blob/master/Adaptive%20Random%20Search.ipynb\" target=\"_parent\"><img src=\"https://colab.research.google.com/assets/colab-badge.svg\" alt=\"Open In Colab\"/></a>"
      ]
    },
    {
      "cell_type": "markdown",
      "metadata": {
        "id": "vdaqf6vgTTg4"
      },
      "source": [
        "<left>\n",
        "    <img src=\"https://kpi.ua/files/images/kpi.png\" width=\"300\" alt=\"kpi logo\"  />\n",
        "</left>"
      ]
    },
    {
      "cell_type": "markdown",
      "metadata": {
        "id": "y2VgPk2mTThF"
      },
      "source": [
        "# **Lab Title**"
      ]
    },
    {
      "cell_type": "markdown",
      "metadata": {
        "id": "jkRBtAnQTThK"
      },
      "source": [
        "Add description of lab here"
      ]
    },
    {
      "cell_type": "markdown",
      "metadata": {
        "id": "CHwOXFUpTThK"
      },
      "source": [
        "## Outline"
      ]
    },
    {
      "cell_type": "markdown",
      "metadata": {
        "id": "bHSc4iksTThP"
      },
      "source": [
        "* Abstract\n",
        "* Introduction\n",
        "* Materials and Methods \n",
        "* Solving the Problem \n",
        "  * Importing Libraries/defining auxiliary functions\n",
        "  * Defining constants\n",
        "  * Function(s) defenition\n",
        "  * Calculations\n",
        "  * Displaying results \n",
        "* Conclusions. (What conclusions can I make from the results, I achieved? This is the principal section! Please, pay close attention to it!)\n",
        "* Authors (with contact information)\n",
        "* References \n",
        "\n"
      ]
    },
    {
      "cell_type": "markdown",
      "metadata": {
        "id": "G46n-9a6AOld"
      },
      "source": [
        "## Abstract"
      ]
    },
    {
      "cell_type": "markdown",
      "metadata": {
        "id": "M6y1ouhjA5R_"
      },
      "source": [
        "Please describe your work in a couple of paragraphs. You can use $ \\frac{{LaTEX}}{{Syntax}}$ in your notebooks, please see [LaTeX](https://en.wikipedia.org/wiki/LaTeX)"
      ]
    },
    {
      "cell_type": "markdown",
      "metadata": {
        "id": "jMUKBzRtATok"
      },
      "source": [
        "## Introduction\n"
      ]
    },
    {
      "cell_type": "markdown",
      "metadata": {
        "id": "9BLxATjFAyKt"
      },
      "source": [
        "What problem am I trying to solve? What are the difficulties? What I want to achieve?"
      ]
    },
    {
      "cell_type": "markdown",
      "metadata": {
        "id": "imKWkeOrAWJ1"
      },
      "source": [
        "## Materials and Methods \n",
        "\n",
        "How did I solve the problem? What method I used and why? What datasets? etc."
      ]
    },
    {
      "cell_type": "markdown",
      "metadata": {
        "id": "NNm4GtIYBQDs"
      },
      "source": [
        "## Solving the problem\n"
      ]
    },
    {
      "cell_type": "markdown",
      "metadata": {
        "id": "U3yNA4-2BhX9"
      },
      "source": [
        "This section is devoted to your software that is intended to solve the problem. Please make a detailed comments and save all your output."
      ]
    },
    {
      "cell_type": "markdown",
      "metadata": {
        "id": "S4t5rpwITThQ"
      },
      "source": [
        "----"
      ]
    },
    {
      "cell_type": "markdown",
      "metadata": {
        "id": "xS8UOiQOTThR"
      },
      "source": [
        "## Import Libraries/Define Auxillary Functions"
      ]
    },
    {
      "cell_type": "code",
      "metadata": {
        "id": "htHYiNdDTTha"
      },
      "source": [
        "# Install libraries not already in the environment\n",
        "!pip install library1"
      ],
      "execution_count": null,
      "outputs": []
    },
    {
      "cell_type": "code",
      "metadata": {
        "id": "jdVcijxmTTha"
      },
      "source": [
        "# Import the libraries we need to use in this lab\n",
        "# We can add an alias to make the library easier to use in code\n",
        "import numpy as np \n",
        "import random "
      ],
      "execution_count": null,
      "outputs": []
    },
    {
      "cell_type": "markdown",
      "metadata": {
        "id": "SbmrZguMTThd"
      },
      "source": [
        "## Defining constants"
      ]
    },
    {
      "cell_type": "code",
      "metadata": {
        "id": "sQDRkQFLCOu0"
      },
      "source": [
        "PI_THEORETICAL = 3.1415926536  # we all love Pi\n",
        "N=100000 # Number of simulations"
      ],
      "execution_count": null,
      "outputs": []
    },
    {
      "cell_type": "markdown",
      "metadata": {
        "id": "zYRuHcdaTThe"
      },
      "source": [
        "## Function(s) defenition"
      ]
    },
    {
      "cell_type": "markdown",
      "metadata": {
        "id": "L8O-V44UGEcu"
      },
      "source": [
        "Just an estimation of Pi by means of curde Monte Carlo method\n",
        "\n",
        "\n",
        "*Monte Carlo method* https://en.wikipedia.org/wiki/Monte_Carlo_method"
      ]
    },
    {
      "cell_type": "code",
      "metadata": {
        "id": "quu9XyUOTThe"
      },
      "source": [
        "def monte_carlo_pi(N):\n",
        "  bingo = 0 # Number of points in the circle\n",
        "  for i in range(N):\n",
        "  # Generate the coortidates of the point with uniform distribution within the square. \n",
        "    x= random.uniform(-0.5, 0.5)\n",
        "    y= random.uniform(-0.5, 0.5)\n",
        "     # Checking if we've hit the circle (hint: use Pythagorean theorem)\n",
        "    if (x**2+y**2)<= 0.25:\n",
        "        bingo+= 1 # Bingo! We did it!\n",
        "    pi = 4* bingo/N      # Estimating value of pi,\n",
        "  return pi"
      ],
      "execution_count": null,
      "outputs": []
    },
    {
      "cell_type": "markdown",
      "metadata": {
        "id": "y9E-eO8GDMv0"
      },
      "source": [
        "## Calculations"
      ]
    },
    {
      "cell_type": "code",
      "metadata": {
        "id": "FBJYb-jHDYGl"
      },
      "source": [
        "pi_approx = monte_carlo_pi(N) \n",
        "error =abs(pi_approx - PI_THEORETICAL)"
      ],
      "execution_count": null,
      "outputs": []
    },
    {
      "cell_type": "markdown",
      "metadata": {
        "id": "WCBL113lIWPe"
      },
      "source": [
        "## Displaying the results"
      ]
    },
    {
      "cell_type": "code",
      "metadata": {
        "id": "LYNFxbJ5IgtV",
        "colab": {
          "base_uri": "https://localhost:8080/"
        },
        "outputId": "1c62f4d0-d1be-4375-d963-143052565a71"
      },
      "source": [
        "print(\"Approximate value of Pi is \", pi_approx, \"number of samples = \", N, \"error is \", error ) "
      ],
      "execution_count": null,
      "outputs": [
        {
          "output_type": "stream",
          "text": [
            "Approximate value of Pi is  3.137 number of samples =  100000 error is  0.004592653600000052\n"
          ],
          "name": "stdout"
        }
      ]
    },
    {
      "cell_type": "markdown",
      "metadata": {
        "id": "PgT67G1AInlY"
      },
      "source": [
        "## Conclusions"
      ]
    },
    {
      "cell_type": "markdown",
      "metadata": {
        "id": "j3rprK0AIpsV"
      },
      "source": [
        "What conclusions can I make from the results, I achieved? **This is the principal section!** Please, pay close attention to it!"
      ]
    },
    {
      "cell_type": "markdown",
      "metadata": {
        "id": "iEbNXiqmTTh0"
      },
      "source": [
        "## Authors"
      ]
    },
    {
      "cell_type": "markdown",
      "metadata": {
        "id": "mLedG4iETTh0"
      },
      "source": [
        "[Author With Links](URL)"
      ]
    },
    {
      "cell_type": "markdown",
      "metadata": {
        "id": "6C25CbDQI6FQ"
      },
      "source": [
        "## References"
      ]
    },
    {
      "cell_type": "markdown",
      "metadata": {
        "id": "35Hda0hJI9wc"
      },
      "source": [
        "Please list all the sources, you used, including websites, papers, your colleague's work :) etc. "
      ]
    }
  ]
}